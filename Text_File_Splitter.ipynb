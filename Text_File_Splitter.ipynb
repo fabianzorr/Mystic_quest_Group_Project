{
 "cells": [
  {
   "cell_type": "code",
   "execution_count": 4,
   "metadata": {},
   "outputs": [],
   "source": [
    "# Define a function to extract entities from the input text and save them to separate files.\n",
    "def extract_entities(input_file):\n",
    "    with open(input_file, 'r') as file:\n",
    "        lines = file.readlines()\n",
    "    \n",
    "    entity_data = {}\n",
    "    current_entity = None\n",
    "    \n",
    "    for line in lines:\n",
    "        if line.startswith(\"---\"):\n",
    "            if current_entity:\n",
    "                entity_type = current_entity[0]\n",
    "                entity_data.setdefault(entity_type, []).append('\\n'.join(current_entity[1:]))\n",
    "            current_entity = [line.strip(\"---\").strip()]\n",
    "        else:\n",
    "            current_entity.append(line.strip())\n",
    "    \n",
    "    # Save each entity type to a separate file with \" ---\" removed from the name.\n",
    "    for entity_type, entity_entries in entity_data.items():\n",
    "        entity_type = entity_type.replace(\" ---\", \"\")  # Remove \" ---\" from the entity type file name.\n",
    "        with open(f'{entity_type}.txt', 'w') as entity_file:\n",
    "            for entry in entity_entries:\n",
    "                entity_file.write(entry + '\\n')\n",
    "\n",
    "\n",
    "# Call the function with your input file.\n",
    "input_file = 'generated_entities.txt'\n",
    "extract_entities(input_file)"
   ]
  }
 ],
 "metadata": {
  "kernelspec": {
   "display_name": "Python 3",
   "language": "python",
   "name": "python3"
  },
  "language_info": {
   "codemirror_mode": {
    "name": "ipython",
    "version": 3
   },
   "file_extension": ".py",
   "mimetype": "text/x-python",
   "name": "python",
   "nbconvert_exporter": "python",
   "pygments_lexer": "ipython3",
   "version": "3.11.1"
  },
  "orig_nbformat": 4
 },
 "nbformat": 4,
 "nbformat_minor": 2
}
